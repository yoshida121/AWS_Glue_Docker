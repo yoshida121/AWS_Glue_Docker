{
 "cells": [
  {
   "cell_type": "code",
   "execution_count": 1,
   "id": "e504e7b2-7724-4f37-a7e1-d573f9692e55",
   "metadata": {},
   "outputs": [],
   "source": [
    "import sys\n",
    "import os\n",
    "import io\n",
    "import csv\n",
    "import boto3\n",
    "from pyspark.context import SparkContext\n",
    "from awsglue.context import GlueContext\n",
    "from awsglue.job import Job\n",
    "from awsglue.dynamicframe import DynamicFrame\n",
    "from botocore.client import Config"
   ]
  },
  {
   "cell_type": "code",
   "execution_count": 2,
   "id": "97404a78-147e-4b3a-b490-52bdc3122a48",
   "metadata": {},
   "outputs": [],
   "source": [
    "endpoint = \"http://glue.dev.s3.local:9000\"\n",
    "os.environ[\"TEST_S3_ENDPOINT_URL\"] = endpoint\n",
    "sc = SparkContext.getOrCreate()\n",
    "glueContext = GlueContext(sc)\n",
    "spark = glueContext.spark_session\n",
    "job = Job(glueContext)\n",
    "# job.init(\"JobName\")"
   ]
  },
  {
   "cell_type": "code",
   "execution_count": 3,
   "id": "685eb279-7d4f-4833-8f8d-2b586051dc1e",
   "metadata": {},
   "outputs": [],
   "source": [
    "sc._jsc.hadoopConfiguration().set(\"fs.s3a.endpoint\", endpoint)\n",
    "sc._jsc.hadoopConfiguration().set(\"fs.s3a.path.style.access\", \"true\")\n",
    "sc._jsc.hadoopConfiguration().set(\"fs.s3a.signing-algorithm\", \"S3SignerType\")"
   ]
  },
  {
   "cell_type": "code",
   "execution_count": 4,
   "id": "54fe10f3-361c-4dd0-a8a2-aa60926a95e4",
   "metadata": {},
   "outputs": [
    {
     "name": "stdout",
     "output_type": "stream",
     "text": [
      "2022-01-14 15:23:30       2470 iris.csv\n"
     ]
    }
   ],
   "source": [
    "!aws s3 ls --endpoint-url $TEST_S3_ENDPOINT_URL sample/"
   ]
  },
  {
   "cell_type": "code",
   "execution_count": 5,
   "id": "812f40bb-2690-4454-818a-19c5d70309ae",
   "metadata": {},
   "outputs": [],
   "source": [
    "s3 = boto3.resource(\n",
    "    \"s3\",\n",
    "    endpoint_url=os.getenv(\"TEST_S3_ENDPOINT_URL\"),\n",
    "    region_name=\"ap-northeast-1\",\n",
    "    use_ssl=False,\n",
    "    config=Config(s3={\"addressing_style\": \"path\"}),\n",
    ")\n",
    "bucket_name = \"sample\"\n",
    "bucket = s3.Bucket(bucket_name)\n",
    "# bucket.create(ACL=\"public-read-write\")"
   ]
  },
  {
   "cell_type": "code",
   "execution_count": 6,
   "id": "11cfd2cd-13fe-41aa-b372-1469197309ed",
   "metadata": {},
   "outputs": [
    {
     "name": "stdout",
     "output_type": "stream",
     "text": [
      "+-----------------+----------------+-----------------+----------------+\n",
      "|sepal length (cm)|sepal width (cm)|petal length (cm)|petal width (cm)|\n",
      "+-----------------+----------------+-----------------+----------------+\n",
      "|              5.1|             3.5|              1.4|             0.2|\n",
      "|              4.9|             3.0|              1.4|             0.2|\n",
      "|              4.7|             3.2|              1.3|             0.2|\n",
      "|              4.6|             3.1|              1.5|             0.2|\n",
      "|              5.0|             3.6|              1.4|             0.2|\n",
      "|              5.4|             3.9|              1.7|             0.4|\n",
      "|              4.6|             3.4|              1.4|             0.3|\n",
      "|              5.0|             3.4|              1.5|             0.2|\n",
      "|              4.4|             2.9|              1.4|             0.2|\n",
      "|              4.9|             3.1|              1.5|             0.1|\n",
      "|              5.4|             3.7|              1.5|             0.2|\n",
      "|              4.8|             3.4|              1.6|             0.2|\n",
      "|              4.8|             3.0|              1.4|             0.1|\n",
      "|              4.3|             3.0|              1.1|             0.1|\n",
      "|              5.8|             4.0|              1.2|             0.2|\n",
      "|              5.7|             4.4|              1.5|             0.4|\n",
      "|              5.4|             3.9|              1.3|             0.4|\n",
      "|              5.1|             3.5|              1.4|             0.3|\n",
      "|              5.7|             3.8|              1.7|             0.3|\n",
      "|              5.1|             3.8|              1.5|             0.3|\n",
      "+-----------------+----------------+-----------------+----------------+\n",
      "only showing top 20 rows\n",
      "\n"
     ]
    }
   ],
   "source": [
    "p = \"s3://sample/\"\n",
    "df = glueContext.create_dynamic_frame.from_options(\n",
    "    connection_type=\"s3\",\n",
    "    connection_options={\"paths\": [p]},\n",
    "    format=\"csv\",\n",
    "    format_options={\n",
    "        \"separator\": \",\",\n",
    "        \"withHeader\": True\n",
    "    }\n",
    ").toDF()\n",
    "df.show()"
   ]
  }
 ],
 "metadata": {
  "kernelspec": {
   "display_name": "Python 3",
   "language": "python",
   "name": "python3"
  },
  "language_info": {
   "codemirror_mode": {
    "name": "ipython",
    "version": 3
   },
   "file_extension": ".py",
   "mimetype": "text/x-python",
   "name": "python",
   "nbconvert_exporter": "python",
   "pygments_lexer": "ipython3",
   "version": "3.7.10"
  }
 },
 "nbformat": 4,
 "nbformat_minor": 5
}
